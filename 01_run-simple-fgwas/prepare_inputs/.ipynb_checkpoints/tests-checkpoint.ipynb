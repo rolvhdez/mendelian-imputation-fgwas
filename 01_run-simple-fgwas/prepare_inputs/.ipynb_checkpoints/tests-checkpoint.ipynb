{
 "cells": [
  {
   "cell_type": "markdown",
   "id": "133f75e8-b67b-4a0a-a1d7-94e6aa28cfe3",
   "metadata": {},
   "source": [
    "# Preparing inputs\n",
    "\n",
    "According to the SNIPAR docs (https://snipar.readthedocs.io/en/latest/tutorial.html#family-based-gwas), for a minimal run of an FGWAS (i.e. only with ), we need to prepare the next inputs:\n",
    "\n",
    "- **Phenotype:** A white-space delimited text file with a header (FID, IID, and $n$ phenotype values).\n",
    "- **Genotype data (`--bgen` or `--bed`):** Two files can be supported: the BED unphased data, and BGEN phased data. For test, we use the chr_22.\n",
    "- **Pedigree data (`--pedigree`):** This is a white-space delimited text file with header “FID”, “IID”, “FATHER_ID”, “MOTHER_ID”\n",
    "\n",
    "An example of the final BASH line we use: \n",
    "\n",
    "```shell\n",
    "gwas.py --bgen chr_@ --pedigree pedigree.txt --threads 4 phenotype.txt \n",
    "```"
   ]
  },
  {
   "cell_type": "code",
   "execution_count": null,
   "id": "74610b1a-7603-43fd-bd55-db813df3257f",
   "metadata": {},
   "outputs": [],
   "source": [
    "# 1. Create the phenotype file\n"
   ]
  }
 ],
 "metadata": {
  "kernelspec": {
   "display_name": "Bash",
   "language": "bash",
   "name": "bash"
  },
  "language_info": {
   "codemirror_mode": "shell",
   "file_extension": ".sh",
   "mimetype": "text/x-sh",
   "name": "bash"
  }
 },
 "nbformat": 4,
 "nbformat_minor": 5
}
